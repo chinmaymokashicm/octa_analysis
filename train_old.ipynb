{
 "cells": [
  {
   "cell_type": "code",
   "execution_count": 1,
   "metadata": {},
   "outputs": [
    {
     "ename": "ModuleNotFoundError",
     "evalue": "No module named 'sklearn'",
     "output_type": "error",
     "traceback": [
      "\u001b[0;31m---------------------------------------------------------------------------\u001b[0m",
      "\u001b[0;31mModuleNotFoundError\u001b[0m                       Traceback (most recent call last)",
      "Input \u001b[0;32mIn [1]\u001b[0m, in \u001b[0;36m<cell line: 5>\u001b[0;34m()\u001b[0m\n\u001b[1;32m      3\u001b[0m \u001b[38;5;28;01mimport\u001b[39;00m \u001b[38;5;21;01mre\u001b[39;00m\n\u001b[1;32m      4\u001b[0m \u001b[38;5;28;01mimport\u001b[39;00m \u001b[38;5;21;01mjson\u001b[39;00m\n\u001b[0;32m----> 5\u001b[0m \u001b[38;5;28;01mfrom\u001b[39;00m \u001b[38;5;21;01msklearn\u001b[39;00m \u001b[38;5;28;01mimport\u001b[39;00m metrics\n\u001b[1;32m      6\u001b[0m \u001b[38;5;28;01mfrom\u001b[39;00m \u001b[38;5;21;01msklearn\u001b[39;00m\u001b[38;5;21;01m.\u001b[39;00m\u001b[38;5;21;01mlinear_model\u001b[39;00m \u001b[38;5;28;01mimport\u001b[39;00m LogisticRegression\n\u001b[1;32m      7\u001b[0m \u001b[38;5;28;01mfrom\u001b[39;00m \u001b[38;5;21;01msklearn\u001b[39;00m\u001b[38;5;21;01m.\u001b[39;00m\u001b[38;5;21;01mtree\u001b[39;00m \u001b[38;5;28;01mimport\u001b[39;00m DecisionTreeClassifier\n",
      "\u001b[0;31mModuleNotFoundError\u001b[0m: No module named 'sklearn'"
     ]
    }
   ],
   "source": [
    "import pandas as pd\n",
    "import numpy as np\n",
    "import re\n",
    "import json\n",
    "from sklearn import metrics\n",
    "from sklearn.linear_model import LogisticRegression\n",
    "from sklearn.tree import DecisionTreeClassifier\n",
    "from sklearn.model_selection import train_test_split, LeaveOneOut, cross_val_score\n",
    "from sklearn.preprocessing import StandardScaler\n",
    "from sklearn.cluster import KMeans\n",
    "from sklearn.discriminant_analysis import LinearDiscriminantAnalysis\n",
    "from sklearn.ensemble import RandomForestClassifier\n",
    "\n",
    "from tqdm.notebook import tqdm\n",
    "\n",
    "import matplotlib.pyplot as plt\n",
    "import seaborn as sns\n",
    "\n",
    "from skl2onnx import convert_sklearn\n",
    "from skl2onnx.common.data_types import FloatTensorType\n",
    "\n",
    "# from sklearn.tree._tree import DecisionTreeClassifier\n",
    "\n",
    "import pickle\n",
    "\n",
    "import math"
   ]
  },
  {
   "cell_type": "code",
   "execution_count": 99,
   "metadata": {},
   "outputs": [],
   "source": [
    "df_vessel_density = pd.read_csv(\"vessel_density.csv\", index_col=None)"
   ]
  },
  {
   "cell_type": "code",
   "execution_count": 100,
   "metadata": {},
   "outputs": [],
   "source": [
    "def get_fileinfo(series):\n",
    "    \"\"\"Returns key values and parameters from the filenames\n",
    "\n",
    "    Args:\n",
    "        series (pandas.Series): row\n",
    "    \"\"\"\n",
    "    pattern = r\"^[a-zA-Z0-9_ ]+[_](\\w+)[-](\\w+)_sub-(\\d+)[.]\\w+[_](\\w+).csv$\"\n",
    "    result = re.search(pattern, series[\"filename\"])\n",
    "    series[\"side\"] = result.groups()[0]\n",
    "    series[\"layer\"] = result.groups()[1]\n",
    "    series[\"record\"] = int(result.groups()[2])\n",
    "    series[\"region\"] = result.groups()[3]\n",
    "    list_image_label = [\"R\", \"D\"]\n",
    "    if(series[\"layer\"] == \"Superficial\"):\n",
    "        list_image_label[1] = \"S\"\n",
    "    if(series[\"side\"] == \"OS\"):\n",
    "        list_image_label[0] = \"L\"\n",
    "    series[\"label\"] = \"\".join(list_image_label)\n",
    "    return(series)"
   ]
  },
  {
   "cell_type": "code",
   "execution_count": 101,
   "metadata": {},
   "outputs": [],
   "source": [
    "df_vessel_density = df_vessel_density.apply(get_fileinfo, axis=1)\n",
    "df_vessel_density = df_vessel_density.drop(columns=\"filename\")"
   ]
  },
  {
   "cell_type": "code",
   "execution_count": 102,
   "metadata": {},
   "outputs": [
    {
     "data": {
      "text/html": [
       "<div>\n",
       "<style scoped>\n",
       "    .dataframe tbody tr th:only-of-type {\n",
       "        vertical-align: middle;\n",
       "    }\n",
       "\n",
       "    .dataframe tbody tr th {\n",
       "        vertical-align: top;\n",
       "    }\n",
       "\n",
       "    .dataframe thead th {\n",
       "        text-align: right;\n",
       "    }\n",
       "</style>\n",
       "<table border=\"1\" class=\"dataframe\">\n",
       "  <thead>\n",
       "    <tr style=\"text-align: right;\">\n",
       "      <th></th>\n",
       "      <th>record</th>\n",
       "      <th>region</th>\n",
       "      <th>label</th>\n",
       "      <th>vessel_density</th>\n",
       "    </tr>\n",
       "  </thead>\n",
       "  <tbody>\n",
       "    <tr>\n",
       "      <th>0</th>\n",
       "      <td>32</td>\n",
       "      <td>IT</td>\n",
       "      <td>RS</td>\n",
       "      <td>61.854353</td>\n",
       "    </tr>\n",
       "    <tr>\n",
       "      <th>1</th>\n",
       "      <td>32</td>\n",
       "      <td>IN</td>\n",
       "      <td>RS</td>\n",
       "      <td>62.046104</td>\n",
       "    </tr>\n",
       "    <tr>\n",
       "      <th>2</th>\n",
       "      <td>32</td>\n",
       "      <td>IS</td>\n",
       "      <td>RS</td>\n",
       "      <td>70.803677</td>\n",
       "    </tr>\n",
       "    <tr>\n",
       "      <th>3</th>\n",
       "      <td>32</td>\n",
       "      <td>IS</td>\n",
       "      <td>LS</td>\n",
       "      <td>64.074333</td>\n",
       "    </tr>\n",
       "    <tr>\n",
       "      <th>4</th>\n",
       "      <td>32</td>\n",
       "      <td>II</td>\n",
       "      <td>RD</td>\n",
       "      <td>91.834667</td>\n",
       "    </tr>\n",
       "    <tr>\n",
       "      <th>5</th>\n",
       "      <td>32</td>\n",
       "      <td>II</td>\n",
       "      <td>LD</td>\n",
       "      <td>75.107614</td>\n",
       "    </tr>\n",
       "    <tr>\n",
       "      <th>6</th>\n",
       "      <td>32</td>\n",
       "      <td>innerCircle</td>\n",
       "      <td>LS</td>\n",
       "      <td>41.975969</td>\n",
       "    </tr>\n",
       "    <tr>\n",
       "      <th>7</th>\n",
       "      <td>32</td>\n",
       "      <td>II</td>\n",
       "      <td>LS</td>\n",
       "      <td>65.978194</td>\n",
       "    </tr>\n",
       "    <tr>\n",
       "      <th>8</th>\n",
       "      <td>32</td>\n",
       "      <td>innerCircle</td>\n",
       "      <td>LD</td>\n",
       "      <td>63.180939</td>\n",
       "    </tr>\n",
       "    <tr>\n",
       "      <th>9</th>\n",
       "      <td>32</td>\n",
       "      <td>IS</td>\n",
       "      <td>LD</td>\n",
       "      <td>79.368926</td>\n",
       "    </tr>\n",
       "  </tbody>\n",
       "</table>\n",
       "</div>"
      ],
      "text/plain": [
       "   record       region label  vessel_density\n",
       "0      32           IT    RS       61.854353\n",
       "1      32           IN    RS       62.046104\n",
       "2      32           IS    RS       70.803677\n",
       "3      32           IS    LS       64.074333\n",
       "4      32           II    RD       91.834667\n",
       "5      32           II    LD       75.107614\n",
       "6      32  innerCircle    LS       41.975969\n",
       "7      32           II    LS       65.978194\n",
       "8      32  innerCircle    LD       63.180939\n",
       "9      32           IS    LD       79.368926"
      ]
     },
     "execution_count": 102,
     "metadata": {},
     "output_type": "execute_result"
    }
   ],
   "source": [
    "df_vessel_density = df_vessel_density[[\"record\", \"region\", \"label\", \"vessel_density\"]]\n",
    "df_vessel_density.head(10)"
   ]
  },
  {
   "cell_type": "code",
   "execution_count": 103,
   "metadata": {},
   "outputs": [],
   "source": [
    "df_train = pd.DataFrame(pd.pivot_table(data=df_vessel_density, values=\"vessel_density\", columns=[\"region\"], index=[\"record\", \"label\"]).to_records())\n",
    "df_train[\"side\"] = df_train[\"label\"].apply(lambda label: label[0])"
   ]
  },
  {
   "cell_type": "code",
   "execution_count": 104,
   "metadata": {},
   "outputs": [
    {
     "data": {
      "text/html": [
       "<div>\n",
       "<style scoped>\n",
       "    .dataframe tbody tr th:only-of-type {\n",
       "        vertical-align: middle;\n",
       "    }\n",
       "\n",
       "    .dataframe tbody tr th {\n",
       "        vertical-align: top;\n",
       "    }\n",
       "\n",
       "    .dataframe thead th {\n",
       "        text-align: right;\n",
       "    }\n",
       "</style>\n",
       "<table border=\"1\" class=\"dataframe\">\n",
       "  <thead>\n",
       "    <tr style=\"text-align: right;\">\n",
       "      <th></th>\n",
       "      <th>record</th>\n",
       "      <th>label</th>\n",
       "      <th>II</th>\n",
       "      <th>IN</th>\n",
       "      <th>IS</th>\n",
       "      <th>IT</th>\n",
       "      <th>innerCircle</th>\n",
       "      <th>side</th>\n",
       "    </tr>\n",
       "  </thead>\n",
       "  <tbody>\n",
       "    <tr>\n",
       "      <th>0</th>\n",
       "      <td>1</td>\n",
       "      <td>LD</td>\n",
       "      <td>76.812409</td>\n",
       "      <td>76.036873</td>\n",
       "      <td>80.069378</td>\n",
       "      <td>76.003358</td>\n",
       "      <td>34.717816</td>\n",
       "      <td>L</td>\n",
       "    </tr>\n",
       "    <tr>\n",
       "      <th>1</th>\n",
       "      <td>1</td>\n",
       "      <td>LS</td>\n",
       "      <td>63.338113</td>\n",
       "      <td>61.187351</td>\n",
       "      <td>62.933060</td>\n",
       "      <td>58.250268</td>\n",
       "      <td>10.793844</td>\n",
       "      <td>L</td>\n",
       "    </tr>\n",
       "    <tr>\n",
       "      <th>2</th>\n",
       "      <td>1</td>\n",
       "      <td>RD</td>\n",
       "      <td>72.448235</td>\n",
       "      <td>70.886130</td>\n",
       "      <td>73.243406</td>\n",
       "      <td>72.858762</td>\n",
       "      <td>34.637471</td>\n",
       "      <td>R</td>\n",
       "    </tr>\n",
       "    <tr>\n",
       "      <th>3</th>\n",
       "      <td>1</td>\n",
       "      <td>RS</td>\n",
       "      <td>59.915487</td>\n",
       "      <td>55.802535</td>\n",
       "      <td>63.632754</td>\n",
       "      <td>62.691014</td>\n",
       "      <td>10.020115</td>\n",
       "      <td>R</td>\n",
       "    </tr>\n",
       "  </tbody>\n",
       "</table>\n",
       "</div>"
      ],
      "text/plain": [
       "   record label         II         IN         IS         IT  innerCircle side\n",
       "0       1    LD  76.812409  76.036873  80.069378  76.003358    34.717816    L\n",
       "1       1    LS  63.338113  61.187351  62.933060  58.250268    10.793844    L\n",
       "2       1    RD  72.448235  70.886130  73.243406  72.858762    34.637471    R\n",
       "3       1    RS  59.915487  55.802535  63.632754  62.691014    10.020115    R"
      ]
     },
     "metadata": {},
     "output_type": "display_data"
    },
    {
     "data": {
      "text/html": [
       "<div>\n",
       "<style scoped>\n",
       "    .dataframe tbody tr th:only-of-type {\n",
       "        vertical-align: middle;\n",
       "    }\n",
       "\n",
       "    .dataframe tbody tr th {\n",
       "        vertical-align: top;\n",
       "    }\n",
       "\n",
       "    .dataframe thead th {\n",
       "        text-align: right;\n",
       "    }\n",
       "</style>\n",
       "<table border=\"1\" class=\"dataframe\">\n",
       "  <thead>\n",
       "    <tr style=\"text-align: right;\">\n",
       "      <th></th>\n",
       "      <th>record</th>\n",
       "      <th>region</th>\n",
       "      <th>label</th>\n",
       "      <th>vessel_density</th>\n",
       "    </tr>\n",
       "  </thead>\n",
       "  <tbody>\n",
       "    <tr>\n",
       "      <th>783</th>\n",
       "      <td>1</td>\n",
       "      <td>IS</td>\n",
       "      <td>LD</td>\n",
       "      <td>80.069378</td>\n",
       "    </tr>\n",
       "    <tr>\n",
       "      <th>788</th>\n",
       "      <td>1</td>\n",
       "      <td>IT</td>\n",
       "      <td>LD</td>\n",
       "      <td>76.003358</td>\n",
       "    </tr>\n",
       "    <tr>\n",
       "      <th>791</th>\n",
       "      <td>1</td>\n",
       "      <td>II</td>\n",
       "      <td>LD</td>\n",
       "      <td>76.812409</td>\n",
       "    </tr>\n",
       "    <tr>\n",
       "      <th>794</th>\n",
       "      <td>1</td>\n",
       "      <td>IN</td>\n",
       "      <td>LD</td>\n",
       "      <td>76.036873</td>\n",
       "    </tr>\n",
       "    <tr>\n",
       "      <th>799</th>\n",
       "      <td>1</td>\n",
       "      <td>innerCircle</td>\n",
       "      <td>LD</td>\n",
       "      <td>34.717816</td>\n",
       "    </tr>\n",
       "  </tbody>\n",
       "</table>\n",
       "</div>"
      ],
      "text/plain": [
       "     record       region label  vessel_density\n",
       "783       1           IS    LD       80.069378\n",
       "788       1           IT    LD       76.003358\n",
       "791       1           II    LD       76.812409\n",
       "794       1           IN    LD       76.036873\n",
       "799       1  innerCircle    LD       34.717816"
      ]
     },
     "metadata": {},
     "output_type": "display_data"
    }
   ],
   "source": [
    "display(df_train[df_train[\"record\"] == 1])\n",
    "display(df_vessel_density[(df_vessel_density[\"record\"] == 1) & (df_vessel_density[\"label\"] == \"LD\")])"
   ]
  },
  {
   "cell_type": "code",
   "execution_count": 105,
   "metadata": {},
   "outputs": [
    {
     "data": {
      "text/html": [
       "<div>\n",
       "<style scoped>\n",
       "    .dataframe tbody tr th:only-of-type {\n",
       "        vertical-align: middle;\n",
       "    }\n",
       "\n",
       "    .dataframe tbody tr th {\n",
       "        vertical-align: top;\n",
       "    }\n",
       "\n",
       "    .dataframe thead th {\n",
       "        text-align: right;\n",
       "    }\n",
       "</style>\n",
       "<table border=\"1\" class=\"dataframe\">\n",
       "  <thead>\n",
       "    <tr style=\"text-align: right;\">\n",
       "      <th></th>\n",
       "      <th>record</th>\n",
       "      <th>side</th>\n",
       "      <th>II</th>\n",
       "      <th>IN</th>\n",
       "      <th>IS</th>\n",
       "      <th>IT</th>\n",
       "      <th>innerCircle</th>\n",
       "    </tr>\n",
       "  </thead>\n",
       "  <tbody>\n",
       "    <tr>\n",
       "      <th>0</th>\n",
       "      <td>1</td>\n",
       "      <td>L</td>\n",
       "      <td>70.075261</td>\n",
       "      <td>68.612112</td>\n",
       "      <td>71.501219</td>\n",
       "      <td>67.126813</td>\n",
       "      <td>22.755830</td>\n",
       "    </tr>\n",
       "    <tr>\n",
       "      <th>1</th>\n",
       "      <td>1</td>\n",
       "      <td>R</td>\n",
       "      <td>66.181861</td>\n",
       "      <td>63.344332</td>\n",
       "      <td>68.438080</td>\n",
       "      <td>67.774888</td>\n",
       "      <td>22.328793</td>\n",
       "    </tr>\n",
       "    <tr>\n",
       "      <th>2</th>\n",
       "      <td>2</td>\n",
       "      <td>L</td>\n",
       "      <td>80.886921</td>\n",
       "      <td>75.638779</td>\n",
       "      <td>81.200726</td>\n",
       "      <td>76.363870</td>\n",
       "      <td>37.660175</td>\n",
       "    </tr>\n",
       "    <tr>\n",
       "      <th>3</th>\n",
       "      <td>2</td>\n",
       "      <td>R</td>\n",
       "      <td>79.237816</td>\n",
       "      <td>74.719413</td>\n",
       "      <td>78.558164</td>\n",
       "      <td>74.314481</td>\n",
       "      <td>39.195148</td>\n",
       "    </tr>\n",
       "    <tr>\n",
       "      <th>4</th>\n",
       "      <td>3</td>\n",
       "      <td>L</td>\n",
       "      <td>51.298988</td>\n",
       "      <td>47.806874</td>\n",
       "      <td>52.218992</td>\n",
       "      <td>44.327837</td>\n",
       "      <td>18.189336</td>\n",
       "    </tr>\n",
       "  </tbody>\n",
       "</table>\n",
       "</div>"
      ],
      "text/plain": [
       "   record side         II         IN         IS         IT  innerCircle\n",
       "0       1    L  70.075261  68.612112  71.501219  67.126813    22.755830\n",
       "1       1    R  66.181861  63.344332  68.438080  67.774888    22.328793\n",
       "2       2    L  80.886921  75.638779  81.200726  76.363870    37.660175\n",
       "3       2    R  79.237816  74.719413  78.558164  74.314481    39.195148\n",
       "4       3    L  51.298988  47.806874  52.218992  44.327837    18.189336"
      ]
     },
     "execution_count": 105,
     "metadata": {},
     "output_type": "execute_result"
    }
   ],
   "source": [
    "df_train = df_train.groupby([\"record\", \"side\"]).mean().reset_index()\n",
    "df_train.head()"
   ]
  },
  {
   "cell_type": "code",
   "execution_count": 106,
   "metadata": {},
   "outputs": [],
   "source": [
    "# Add dependent variable\n",
    "path_data_dictionary = \"/home/chinmay/Documents/UTHealth/Others/bmi_6002/dataset/pat-info-dataset-paper2022.csv\"\n",
    "df_dict = pd.read_csv(path_data_dictionary, index_col=None)\n",
    "# df_dict.groupby(\"stroke_type\", dropna=False).count().reset_index()[[\"stroke_type\", \"record_id\"]]\n",
    "df_train = df_train.merge(left_on=\"record\", right_on=\"record_id\", right=df_dict)[\n",
    "    list(df_train.columns) + [\"stroke\"]]"
   ]
  },
  {
   "cell_type": "code",
   "execution_count": 107,
   "metadata": {},
   "outputs": [
    {
     "data": {
      "text/html": [
       "<div>\n",
       "<style scoped>\n",
       "    .dataframe tbody tr th:only-of-type {\n",
       "        vertical-align: middle;\n",
       "    }\n",
       "\n",
       "    .dataframe tbody tr th {\n",
       "        vertical-align: top;\n",
       "    }\n",
       "\n",
       "    .dataframe thead th {\n",
       "        text-align: right;\n",
       "    }\n",
       "</style>\n",
       "<table border=\"1\" class=\"dataframe\">\n",
       "  <thead>\n",
       "    <tr style=\"text-align: right;\">\n",
       "      <th></th>\n",
       "      <th>stroke</th>\n",
       "      <th>record</th>\n",
       "    </tr>\n",
       "  </thead>\n",
       "  <tbody>\n",
       "    <tr>\n",
       "      <th>0</th>\n",
       "      <td>0</td>\n",
       "      <td>76</td>\n",
       "    </tr>\n",
       "    <tr>\n",
       "      <th>1</th>\n",
       "      <td>1</td>\n",
       "      <td>18</td>\n",
       "    </tr>\n",
       "  </tbody>\n",
       "</table>\n",
       "</div>"
      ],
      "text/plain": [
       "   stroke  record\n",
       "0       0      76\n",
       "1       1      18"
      ]
     },
     "execution_count": 107,
     "metadata": {},
     "output_type": "execute_result"
    }
   ],
   "source": [
    "df_train.groupby(\"stroke\").count().reset_index()[[\"stroke\", \"record\"]]"
   ]
  },
  {
   "cell_type": "code",
   "execution_count": 108,
   "metadata": {},
   "outputs": [],
   "source": [
    "def annotate_boxplot(bpdict, annotate_params=None,\n",
    "                     x_offset=0.05, x_loc=0,\n",
    "                     text_offset_x=35,\n",
    "                     text_offset_y=-20, ax=None):\n",
    "    \"\"\"Annotates a matplotlib boxplot with labels marking various centile levels.\n",
    "\n",
    "    Parameters:\n",
    "    - bpdict: The dict returned from the matplotlib `boxplot` function. If you're using pandas you can\n",
    "    get this dict by setting `return_type='dict'` when calling `df.boxplot()`.\n",
    "    - annotate_params: Extra parameters for the plt.annotate function. The default setting uses standard arrows\n",
    "    and offsets the text based on other parameters passed to the function\n",
    "    - x_offset: The offset from the centre of the boxplot to place the heads of the arrows, in x axis\n",
    "    units (normally just 0-n for n boxplots). Values between around -0.15 and 0.15 seem to work well\n",
    "    - x_loc: The x axis location of the boxplot to annotate. Usually just the number of the boxplot, counting\n",
    "    from the left and starting at zero.\n",
    "    text_offset_x: The x offset from the arrow head location to place the associated text, in 'figure points' units\n",
    "    text_offset_y: The y offset from the arrow head location to place the associated text, in 'figure points' units\n",
    "    \"\"\"\n",
    "    print(bpdict[\"whiskers\"], \"\\n\\n\")\n",
    "    if annotate_params is None:\n",
    "        annotate_params = dict(xytext=(text_offset_x, text_offset_y), textcoords='offset points', arrowprops={'arrowstyle':'->'})\n",
    "\n",
    "    ax.annotate('Median', (x_loc + 1 + x_offset, bpdict['medians'][x_loc].get_ydata()[0]), **annotate_params)\n",
    "    ax.annotate('25%', (x_loc + 1 + x_offset, bpdict['boxes'][x_loc].get_ydata()[0]), **annotate_params)\n",
    "    ax.annotate('75%', (x_loc + 1 + x_offset, bpdict['boxes'][x_loc].get_ydata()[2]), **annotate_params)\n",
    "    ax.annotate('5%', (x_loc + 1 + x_offset, bpdict['caps'][x_loc*2].get_ydata()[0]), **annotate_params)\n",
    "    ax.annotate('95%', (x_loc + 1 + x_offset, bpdict['caps'][(x_loc*2)+1].get_ydata()[0]), **annotate_params)"
   ]
  },
  {
   "cell_type": "code",
   "execution_count": 109,
   "metadata": {},
   "outputs": [
    {
     "name": "stdout",
     "output_type": "stream",
     "text": [
      "[<matplotlib.lines.Line2D object at 0x7f03332eee80>, <matplotlib.lines.Line2D object at 0x7f03332dd220>, <matplotlib.lines.Line2D object at 0x7f03332c76a0>, <matplotlib.lines.Line2D object at 0x7f03332c7a00>] \n",
      "\n",
      "\n",
      "[<matplotlib.lines.Line2D object at 0x7f03332e7790>, <matplotlib.lines.Line2D object at 0x7f03332e7af0>, <matplotlib.lines.Line2D object at 0x7f0333324f70>, <matplotlib.lines.Line2D object at 0x7f0333319310>] \n",
      "\n",
      "\n",
      "[<matplotlib.lines.Line2D object at 0x7f0333305f70>, <matplotlib.lines.Line2D object at 0x7f033337b310>, <matplotlib.lines.Line2D object at 0x7f0333355790>, <matplotlib.lines.Line2D object at 0x7f0333355af0>] \n",
      "\n",
      "\n",
      "[<matplotlib.lines.Line2D object at 0x7f0333350760>, <matplotlib.lines.Line2D object at 0x7f0333350ac0>, <matplotlib.lines.Line2D object at 0x7f0333346f40>, <matplotlib.lines.Line2D object at 0x7f033343f2e0>] \n",
      "\n",
      "\n"
     ]
    },
    {
     "data": {
      "text/plain": [
       "Text(0.5, 0.98, 'Vessel density across stroke and control groups in non-fovea regions')"
      ]
     },
     "execution_count": 109,
     "metadata": {},
     "output_type": "execute_result"
    },
    {
     "data": {
      "image/png": "[encoded data removed]",
      "text/plain": [
       "<Figure size 1080x720 with 4 Axes>"
      ]
     },
     "metadata": {
      "needs_background": "light"
     },
     "output_type": "display_data"
    }
   ],
   "source": [
    "fig, ((ax1, ax2), (ax3, ax4)) = plt.subplots(2, 2, figsize=(15, 10))\n",
    "annotate_boxplot(df_train.boxplot(by=\"stroke\", column=[\"II\"], ax=ax1, return_type=\"dict\", whis=[5, 95])[\"II\"], ax=ax1)\n",
    "annotate_boxplot(df_train.boxplot(by=\"stroke\", column=[\"IN\"], ax=ax2, return_type=\"dict\", whis=[5, 95])[\"IN\"], ax=ax2)\n",
    "annotate_boxplot(df_train.boxplot(by=\"stroke\", column=[\"IS\"], ax=ax3, return_type=\"dict\", whis=[5, 95])[\"IS\"], ax=ax3)\n",
    "x = annotate_boxplot(df_train.boxplot(by=\"stroke\", column=[\"IT\"], ax=ax4, return_type=\"dict\", whis=[5, 95])[\"IT\"], ax=ax4)\n",
    "fig.suptitle(\"Vessel density across stroke and control groups in non-fovea regions\")"
   ]
  },
  {
   "cell_type": "code",
   "execution_count": 110,
   "metadata": {},
   "outputs": [],
   "source": [
    "def get_metrics(y_pred, y_test):\n",
    "    cm = metrics.confusion_matrix(y_test, y_pred)\n",
    "    tn = cm[0][0]\n",
    "    fp = cm[0][1]\n",
    "    fn = cm[1][0]\n",
    "    tp = cm[1][1]\n",
    "    precision = tp/(tp+fp)\n",
    "    recall = tp/(tp+fn)\n",
    "    return(cm, precision, recall)"
   ]
  },
  {
   "cell_type": "code",
   "execution_count": 111,
   "metadata": {},
   "outputs": [],
   "source": [
    "df_train.to_csv(\"train.csv\", index=False)"
   ]
  },
  {
   "cell_type": "code",
   "execution_count": 112,
   "metadata": {},
   "outputs": [
    {
     "data": {
      "application/vnd.jupyter.widget-view+json": {
       "model_id": "b51c7e18f602440ca7572bbc1d705546",
       "version_major": 2,
       "version_minor": 0
      },
      "text/plain": [
       "0it [00:00, ?it/s]"
      ]
     },
     "metadata": {},
     "output_type": "display_data"
    },
    {
     "name": "stdout",
     "output_type": "stream",
     "text": [
      "0.8404255319148937\n",
      "[[72  4]\n",
      " [11  7]]\n"
     ]
    }
   ],
   "source": [
    "X = df_train[[\"II\", \"IN\", \"IS\", \"IT\", \"innerCircle\"]]\n",
    "y = df_train[\"stroke\"]\n",
    "cv = LeaveOneOut()\n",
    "y_true, y_pred= list(), list()\n",
    "\n",
    "model_loocv = LogisticRegression(random_state=0, warm_start=True)\n",
    "\n",
    "for train_ix, test_ix in tqdm(cv.split(X)):\n",
    "    X_train, X_test = X.iloc[train_ix], X.iloc[test_ix]\n",
    "    y_train, y_test = y.iloc[train_ix], y.iloc[test_ix]\n",
    "\n",
    "    model_loocv.fit(X_train, y_train)\n",
    "\n",
    "    yhat = model_loocv.predict(X_test)\n",
    "\n",
    "    # Store\n",
    "    y_true.append(y_test)\n",
    "    y_pred.append(yhat[0])\n",
    "\n",
    "\n",
    "# Calculate accuracy\n",
    "acc = metrics.accuracy_score(y_true, y_pred)\n",
    "print(acc)\n",
    "print(metrics.confusion_matrix(y_true, y_pred))"
   ]
  },
  {
   "cell_type": "code",
   "execution_count": 113,
   "metadata": {},
   "outputs": [
    {
     "data": {
      "text/plain": [
       "array([1])"
      ]
     },
     "execution_count": 113,
     "metadata": {},
     "output_type": "execute_result"
    }
   ],
   "source": [
    "X_test\n",
    "model_loocv.predict(pd.DataFrame([{\n",
    "    \"II\": 88,\n",
    "    \"IN\": 87,\n",
    "    \"IS\": 83,\n",
    "    \"IT\": 79,\n",
    "    \"innerCircle\": 45\n",
    "}]))"
   ]
  },
  {
   "cell_type": "code",
   "execution_count": 114,
   "metadata": {},
   "outputs": [],
   "source": [
    "pickle.dump(model_loocv, open(\"model.pkl\", \"wb\"))"
   ]
  },
  {
   "cell_type": "code",
   "execution_count": 115,
   "metadata": {},
   "outputs": [],
   "source": [
    "types = [(\"float_input\", FloatTensorType([None, 4]))]\n",
    "types\n",
    "onnx = convert_sklearn(model_loocv, initial_types=types)\n",
    "with open(\"model.onnx\", \"wb\") as f:\n",
    "    f.write(onnx.SerializeToString())\n"
   ]
  },
  {
   "cell_type": "code",
   "execution_count": 116,
   "metadata": {},
   "outputs": [],
   "source": [
    "# sess = onnxruntime.InferenceSession(\n",
    "#     \"model.onnx\", providers=onnxruntime.get_available_providers())\n",
    "# input_name = sess.get_inputs()[0].name\n",
    "# label_name = sess.get_outputs()[0].name\n",
    "# # pred_onx = sess.run(None, {input_name: [88, 87, 83, 79, 80]})\n",
    "# # print(pred_onx)\n",
    "# # dir(sess)\n",
    "# # sess._inputs_meta\n",
    "# # dir(sess._inputs_meta)\n",
    "# sess._inputs_meta.count"
   ]
  },
  {
   "cell_type": "code",
   "execution_count": 117,
   "metadata": {},
   "outputs": [],
   "source": [
    "def logistic_regression_to_json(lrmodel, file=None):\n",
    "    if file is not None:\n",
    "        def serialize(x): return json.dump(x, file)\n",
    "    else:\n",
    "        serialize = json.dumps\n",
    "    data = {}\n",
    "    data['init_params'] = lrmodel.get_params()\n",
    "    data['model_params'] = mp = {}\n",
    "    for p in ('coef_', 'intercept_', 'classes_', 'n_iter_'):\n",
    "        mp[p] = getattr(lrmodel, p).tolist()\n",
    "    return serialize(data)\n",
    "\n",
    "\n",
    "def logistic_regression_from_json(jstring):\n",
    "    data = json.loads(jstring)\n",
    "    model = LogisticRegression(**data['init_params'])\n",
    "    for name, p in data['model_params'].items():\n",
    "        setattr(model, name, np.array(p))\n",
    "    return model\n"
   ]
  },
  {
   "cell_type": "code",
   "execution_count": 118,
   "metadata": {},
   "outputs": [
    {
     "data": {
      "text/plain": [
       "(array(['II', 'IN', 'IS', 'IT', 'innerCircle'], dtype=object),\n",
       " array([[ 0.17599289,  0.03895522, -0.23797869, -0.14315607,  0.17464724]]),\n",
       " array([4.60635652]))"
      ]
     },
     "execution_count": 118,
     "metadata": {},
     "output_type": "execute_result"
    }
   ],
   "source": [
    "# dir(model_loocv)\n",
    "model_loocv.feature_names_in_, model_loocv.coef_, model_loocv.intercept_"
   ]
  },
  {
   "cell_type": "code",
   "execution_count": 119,
   "metadata": {},
   "outputs": [
    {
     "name": "stderr",
     "output_type": "stream",
     "text": [
      "/home/chinmay/Documents/UTHealth/Code/analysis-octa-feat-eng/venv_octa_analysis/lib/python3.8/site-packages/sklearn/base.py:441: UserWarning: X does not have valid feature names, but LogisticRegression was fitted with feature names\n",
      "  warnings.warn(\n"
     ]
    },
    {
     "data": {
      "text/plain": [
       "array([[0.95431531, 0.04568469]])"
      ]
     },
     "execution_count": 119,
     "metadata": {},
     "output_type": "execute_result"
    }
   ],
   "source": [
    "X.iloc[0], \"\\n\", y.iloc[0]\n",
    "\n",
    "\n",
    "model_loocv.predict_proba([X.iloc[0]])"
   ]
  },
  {
   "cell_type": "code",
   "execution_count": 120,
   "metadata": {},
   "outputs": [],
   "source": [
    "def lr_formula(row):\n",
    "    coeffs = model_loocv.coef_\n",
    "    intercept = model_loocv.intercept_\n",
    "    prediction = intercept\n",
    "    values = row.tolist()\n",
    "    for i in range(len(coeffs)):\n",
    "        prediction += coeffs[0][i] * values[i]\n",
    "        # print(coeffs[i], values[i])\n",
    "\n",
    "    # prediction\n",
    "    return(1/(1 + math.exp(-prediction)))"
   ]
  },
  {
   "cell_type": "code",
   "execution_count": 60,
   "metadata": {},
   "outputs": [
    {
     "name": "stderr",
     "output_type": "stream",
     "text": [
      "/home/chinmay/Documents/UTHealth/Code/analysis-octa-feat-eng/venv_octa_analysis/lib/python3.8/site-packages/sklearn/base.py:441: UserWarning: X does not have valid feature names, but LogisticRegression was fitted with feature names\n",
      "  warnings.warn(\n"
     ]
    },
    {
     "data": {
      "text/plain": [
       "(II             70.075261\n",
       " IN             68.612112\n",
       " IS             71.501219\n",
       " IT             67.126813\n",
       " innerCircle    22.755830\n",
       " Name: 0, dtype: float64,\n",
       " array([[0., 1.]]),\n",
       " 1.0)"
      ]
     },
     "execution_count": 60,
     "metadata": {},
     "output_type": "execute_result"
    }
   ],
   "source": [
    "i = 0\n",
    "X.iloc[i], model_loocv.predict_proba([X.iloc[i]]), lr_formula(X.iloc[i])"
   ]
  },
  {
   "cell_type": "code",
   "execution_count": 132,
   "metadata": {},
   "outputs": [],
   "source": [
    "X_new = X.copy()"
   ]
  },
  {
   "cell_type": "code",
   "execution_count": 131,
   "metadata": {},
   "outputs": [
    {
     "name": "stderr",
     "output_type": "stream",
     "text": [
      "/home/chinmay/Documents/UTHealth/Code/analysis-octa-feat-eng/venv_octa_analysis/lib/python3.8/site-packages/sklearn/base.py:441: UserWarning: X does not have valid feature names, but LogisticRegression was fitted with feature names\n",
      "  warnings.warn(\n"
     ]
    },
    {
     "data": {
      "text/plain": [
       "(array([[0., 1.]]), 1.0)"
      ]
     },
     "execution_count": 131,
     "metadata": {},
     "output_type": "execute_result"
    }
   ],
   "source": [
    "model_loocv.predict_proba([X_new.iloc[0]]), lr_formula(X_new.iloc[0])"
   ]
  },
  {
   "cell_type": "code",
   "execution_count": 137,
   "metadata": {},
   "outputs": [
    {
     "data": {
      "text/plain": [
       "array([[ 0.17599289,  0.03895522, -0.23797869, -0.14315607,  0.17464724]])"
      ]
     },
     "execution_count": 137,
     "metadata": {},
     "output_type": "execute_result"
    }
   ],
   "source": [
    "model_loocv.coef_"
   ]
  }
 ],
 "metadata": {
  "interpreter": {
   "hash": "f19db06eb565e81106cb3f188d61214dd164b89f0ce7730afb6f6a0cbcc5d016"
  },
  "kernelspec": {
   "display_name": "Python 3",
   "language": "python",
   "name": "python3"
  },
  "language_info": {
   "codemirror_mode": {
    "name": "ipython",
    "version": 3
   },
   "file_extension": ".py",
   "mimetype": "text/x-python",
   "name": "python",
   "nbconvert_exporter": "python",
   "pygments_lexer": "ipython3",
   "version": "3.10.4"
  }
 },
 "nbformat": 4,
 "nbformat_minor": 2
}
